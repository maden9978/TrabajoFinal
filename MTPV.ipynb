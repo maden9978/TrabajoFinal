{
 "cells": [
  {
   "cell_type": "markdown",
   "id": "e5e862b4",
   "metadata": {},
   "source": [
    "### Archivo ipynb el que se compilará y testeará los códigos para el Web Scrapping de las 3 tiendas online"
   ]
  },
  {
   "cell_type": "code",
   "execution_count": null,
   "id": "6c42a718",
   "metadata": {
    "vscode": {
     "languageId": "plaintext"
    }
   },
   "outputs": [],
   "source": []
  },
  {
   "cell_type": "markdown",
   "id": "a6b5a808",
   "metadata": {},
   "source": [
    "## *LIBRERIAS*"
   ]
  },
  {
   "cell_type": "code",
   "execution_count": null,
   "id": "0ade6ad6",
   "metadata": {
    "vscode": {
     "languageId": "plaintext"
    }
   },
   "outputs": [],
   "source": [
    "\n",
    "from selenium import webdriver  \n",
    "from selenium.webdriver.support.ui import WebDriverWait\n",
    "from selenium.webdriver.support import expected_conditions as EC\n",
    "from selenium.webdriver.common.by import By\n",
    "from selenium.webdriver.support.ui import Select\n",
    "import time\n",
    "import pandas as pd"
   ]
  }
 ],
 "metadata": {
  "kernelspec": {
   "display_name": "Python 3 (ipykernel)",
   "language": "python",
   "name": "python3"
  },
  "language_info": {
   "codemirror_mode": {
    "name": "ipython",
    "version": 3
   },
   "file_extension": ".py",
   "mimetype": "text/x-python",
   "name": "python",
   "nbconvert_exporter": "python",
   "pygments_lexer": "ipython3",
   "version": "3.9.12"
  }
 },
 "nbformat": 4,
 "nbformat_minor": 5
}
